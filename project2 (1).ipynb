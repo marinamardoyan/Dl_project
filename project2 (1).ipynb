{
  "cells": [
    {
      "cell_type": "code",
      "execution_count": null,
      "metadata": {
        "id": "q0CKRsrJ_KPJ"
      },
      "outputs": [],
      "source": [
        "import pandas as pd\n",
        "import numpy as np\n",
        "import matplotlib.pyplot as plt\n",
        "from datetime import datetime\n",
        "import torch\n",
        "import torch.nn as nn\n",
        "from torchvision.models.video import r3d_18\n",
        "from transformers import Wav2Vec2Model\n",
        "from torch.utils.data import Dataset, DataLoader\n",
        "import cv2\n",
        "from tqdm import tqdm\n",
        "import av\n",
        "import torchaudio\n",
        "from pydub import AudioSegment\n",
        "import random\n",
        "import os\n",
        "import pickle\n",
        "from concurrent.futures import ThreadPoolExecutor\n",
        "from functools import lru_cache\n",
        "import torch.nn.functional as F\n",
        "from torchvision.models import resnet50\n",
        "from torch.nn import TransformerEncoder, TransformerEncoderLayer\n",
        "from torch.optim import AdamW\n",
        "from torch.nn import CrossEntropyLoss\n",
        "from transformers import get_linear_schedule_with_warmup\n",
        "from IPython.display import clear_output\n",
        "import torchvision.models\n",
        "from torchvision.models.video import r3d_18\n",
        "import io\n",
        "from torchvision.transforms import transforms"
      ]
    },
    {
      "cell_type": "markdown",
      "source": [
        "## Данные\n"
      ],
      "metadata": {
        "id": "dyPaYVPaM3F0"
      }
    },
    {
      "cell_type": "markdown",
      "metadata": {
        "id": "Wzl-bRuiwN9y"
      },
      "source": [
        "0 - меньше ста тысяч просмотров, 1 - от ста до пятисот тысяч, 2 - от пятисот до милллиона, 3 - супер вирусный, от 1 милллиона"
      ]
    },
    {
      "cell_type": "code",
      "execution_count": null,
      "metadata": {
        "id": "CQRlDx0cuEwG"
      },
      "outputs": [],
      "source": [
        "def mm(x):\n",
        "  if x<=100000:\n",
        "    x = 0\n",
        "  elif (x>100000) & (x<500000):\n",
        "    x = 1\n",
        "  elif (x>500000) & (x<1000000):\n",
        "    x = 2\n",
        "  else:\n",
        "    x = 3\n",
        "  return x"
      ]
    },
    {
      "cell_type": "code",
      "execution_count": null,
      "metadata": {
        "id": "5V0EISYzdxUS"
      },
      "outputs": [],
      "source": [
        "dfik = pd.read_csv('full_df.csv')"
      ]
    },
    {
      "cell_type": "code",
      "execution_count": null,
      "metadata": {
        "id": "HIf2rysPulqS"
      },
      "outputs": [],
      "source": [
        "dfik['youtube_views'] =  dfik['youtube_views'].apply(lambda x: mm(x)  )"
      ]
    },
    {
      "cell_type": "code",
      "execution_count": null,
      "metadata": {
        "id": "_GiHMruqv0Wd"
      },
      "outputs": [],
      "source": [
        "dfik = dfik.iloc[:,:6]"
      ]
    },
    {
      "cell_type": "code",
      "execution_count": null,
      "metadata": {
        "colab": {
          "base_uri": "https://localhost:8080/",
          "height": 458
        },
        "id": "pQ_Oj3xQtYHg",
        "outputId": "4d9d9781-e66f-4595-a8e2-637c36f52edf"
      },
      "outputs": [
        {
          "data": {
            "text/html": [
              "<div>\n",
              "<style scoped>\n",
              "    .dataframe tbody tr th:only-of-type {\n",
              "        vertical-align: middle;\n",
              "    }\n",
              "\n",
              "    .dataframe tbody tr th {\n",
              "        vertical-align: top;\n",
              "    }\n",
              "\n",
              "    .dataframe thead th {\n",
              "        text-align: right;\n",
              "    }\n",
              "</style>\n",
              "<table border=\"1\" class=\"dataframe\">\n",
              "  <thead>\n",
              "    <tr style=\"text-align: right;\">\n",
              "      <th></th>\n",
              "      <th>Unnamed: 0.1</th>\n",
              "      <th>id</th>\n",
              "      <th>movie_title</th>\n",
              "      <th>trailer_path</th>\n",
              "      <th>youtube_views</th>\n",
              "      <th>youtube_likes</th>\n",
              "    </tr>\n",
              "  </thead>\n",
              "  <tbody>\n",
              "    <tr>\n",
              "      <th>0</th>\n",
              "      <td>0</td>\n",
              "      <td>629</td>\n",
              "      <td>The Usual Suspects</td>\n",
              "      <td>trailers/The_Usual_Suspects_629.mp4</td>\n",
              "      <td>0</td>\n",
              "      <td>97.0</td>\n",
              "    </tr>\n",
              "    <tr>\n",
              "      <th>1</th>\n",
              "      <td>1</td>\n",
              "      <td>10160</td>\n",
              "      <td>A Nightmare on Elm Street 5: The Dream Child</td>\n",
              "      <td>trailers/A_Nightmare_on_Elm_Street_5__The_Drea...</td>\n",
              "      <td>1</td>\n",
              "      <td>1898.0</td>\n",
              "    </tr>\n",
              "    <tr>\n",
              "      <th>2</th>\n",
              "      <td>2</td>\n",
              "      <td>11452</td>\n",
              "      <td>National Lampoon’s Van Wilder</td>\n",
              "      <td>trailers/National_Lampoon_s_Van_Wilder_11452.mp4</td>\n",
              "      <td>3</td>\n",
              "      <td>0.0</td>\n",
              "    </tr>\n",
              "    <tr>\n",
              "      <th>3</th>\n",
              "      <td>3</td>\n",
              "      <td>12163</td>\n",
              "      <td>The Wrestler</td>\n",
              "      <td>trailers/The_Wrestler_12163.mp4</td>\n",
              "      <td>1</td>\n",
              "      <td>1348.0</td>\n",
              "    </tr>\n",
              "    <tr>\n",
              "      <th>4</th>\n",
              "      <td>4</td>\n",
              "      <td>32275</td>\n",
              "      <td>Duel in the Sun</td>\n",
              "      <td>trailers/Duel_in_the_Sun_32275.mp4</td>\n",
              "      <td>0</td>\n",
              "      <td>307.0</td>\n",
              "    </tr>\n",
              "    <tr>\n",
              "      <th>...</th>\n",
              "      <td>...</td>\n",
              "      <td>...</td>\n",
              "      <td>...</td>\n",
              "      <td>...</td>\n",
              "      <td>...</td>\n",
              "      <td>...</td>\n",
              "    </tr>\n",
              "    <tr>\n",
              "      <th>1819</th>\n",
              "      <td>1202</td>\n",
              "      <td>16619</td>\n",
              "      <td>Ordinary People</td>\n",
              "      <td>trailers/Ordinary_People_16619.mp4</td>\n",
              "      <td>0</td>\n",
              "      <td>44.0</td>\n",
              "    </tr>\n",
              "    <tr>\n",
              "      <th>1820</th>\n",
              "      <td>1203</td>\n",
              "      <td>1725</td>\n",
              "      <td>West Side Story</td>\n",
              "      <td>trailers/West_Side_Story_1725.mp4</td>\n",
              "      <td>1</td>\n",
              "      <td>650.0</td>\n",
              "    </tr>\n",
              "    <tr>\n",
              "      <th>1821</th>\n",
              "      <td>1204</td>\n",
              "      <td>11977</td>\n",
              "      <td>Caddyshack</td>\n",
              "      <td>trailers/Caddyshack_11977.mp4</td>\n",
              "      <td>0</td>\n",
              "      <td>152.0</td>\n",
              "    </tr>\n",
              "    <tr>\n",
              "      <th>1822</th>\n",
              "      <td>1205</td>\n",
              "      <td>20322</td>\n",
              "      <td>The Brothers</td>\n",
              "      <td>trailers/The_Brothers_20322.mp4</td>\n",
              "      <td>1</td>\n",
              "      <td>1253.0</td>\n",
              "    </tr>\n",
              "    <tr>\n",
              "      <th>1823</th>\n",
              "      <td>1206</td>\n",
              "      <td>16158</td>\n",
              "      <td>The Wood</td>\n",
              "      <td>trailers/The_Wood_16158.mp4</td>\n",
              "      <td>2</td>\n",
              "      <td>0.0</td>\n",
              "    </tr>\n",
              "  </tbody>\n",
              "</table>\n",
              "<p>1824 rows × 6 columns</p>\n",
              "</div>"
            ],
            "text/plain": [
              "      Unnamed: 0.1     id                                   movie_title  \\\n",
              "0                0    629                            The Usual Suspects   \n",
              "1                1  10160  A Nightmare on Elm Street 5: The Dream Child   \n",
              "2                2  11452                 National Lampoon’s Van Wilder   \n",
              "3                3  12163                                  The Wrestler   \n",
              "4                4  32275                               Duel in the Sun   \n",
              "...            ...    ...                                           ...   \n",
              "1819          1202  16619                               Ordinary People   \n",
              "1820          1203   1725                               West Side Story   \n",
              "1821          1204  11977                                    Caddyshack   \n",
              "1822          1205  20322                                  The Brothers   \n",
              "1823          1206  16158                                      The Wood   \n",
              "\n",
              "                                           trailer_path  youtube_views  \\\n",
              "0                   trailers/The_Usual_Suspects_629.mp4              0   \n",
              "1     trailers/A_Nightmare_on_Elm_Street_5__The_Drea...              1   \n",
              "2      trailers/National_Lampoon_s_Van_Wilder_11452.mp4              3   \n",
              "3                       trailers/The_Wrestler_12163.mp4              1   \n",
              "4                    trailers/Duel_in_the_Sun_32275.mp4              0   \n",
              "...                                                 ...            ...   \n",
              "1819                 trailers/Ordinary_People_16619.mp4              0   \n",
              "1820                  trailers/West_Side_Story_1725.mp4              1   \n",
              "1821                      trailers/Caddyshack_11977.mp4              0   \n",
              "1822                    trailers/The_Brothers_20322.mp4              1   \n",
              "1823                        trailers/The_Wood_16158.mp4              2   \n",
              "\n",
              "      youtube_likes  \n",
              "0              97.0  \n",
              "1            1898.0  \n",
              "2               0.0  \n",
              "3            1348.0  \n",
              "4             307.0  \n",
              "...             ...  \n",
              "1819           44.0  \n",
              "1820          650.0  \n",
              "1821          152.0  \n",
              "1822         1253.0  \n",
              "1823            0.0  \n",
              "\n",
              "[1824 rows x 6 columns]"
            ]
          },
          "execution_count": 17,
          "metadata": {},
          "output_type": "execute_result"
        }
      ],
      "source": [
        "dfik"
      ]
    },
    {
      "cell_type": "markdown",
      "source": [
        "## Датасет и Даталоадер"
      ],
      "metadata": {
        "id": "ppolqFOONBCD"
      }
    },
    {
      "cell_type": "markdown",
      "source": [
        "Датасет извлекат из всего видеоряда только некоторые куски,начиная с рандомного start_frame. Всего извлекается 60 кадров для каждого трейлера. Аудиоряд берется из соответсвуюещего куска видео с частотой 16000 Гц. Также кадры нормализуются в соотвествии с Imagenet."
      ],
      "metadata": {
        "id": "29KTHIxHNgDF"
      }
    },
    {
      "cell_type": "code",
      "execution_count": null,
      "metadata": {
        "id": "69nBGGIe0Znw",
        "outputId": "cc37ea8c-1101-4b14-a65f-2d3722c07509"
      },
      "outputs": [
        {
          "name": "stdout",
          "output_type": "stream",
          "text": [
            "Using device: cuda\n"
          ]
        }
      ],
      "source": [
        "device = torch.device(\"cuda\" if torch.cuda.is_available() else \"cpu\")\n",
        "print(f\"Using device: {device}\")\n",
        "\n",
        "class FastTrailerDataset(Dataset):\n",
        "    def __init__(self, df, target_frames=60, clip_length=2.0, audio_rate=16000, transform=None):\n",
        "\n",
        "        self.df = df\n",
        "        self.target_frames = target_frames\n",
        "        self.clip_length = clip_length\n",
        "        self.audio_rate = audio_rate\n",
        "        self.transform = transform\n",
        "        self.normalize = transforms.Normalize(\n",
        "            mean=[0.485, 0.456, 0.406],\n",
        "            std=[0.229, 0.224, 0.225]\n",
        "        )\n",
        "\n",
        "    def _load_audio_segment(self, video_path):\n",
        "        \"\"\"Быстрая загрузка аудио один раз для всего видео\"\"\"\n",
        "        audio = AudioSegment.from_file(video_path)\n",
        "        return audio.set_frame_rate(self.audio_rate).set_channels(1)\n",
        "\n",
        "    def _extract_frames(self, cap, start_frame, fps):\n",
        "        \"\"\"Эффективное извлечение кадров\"\"\"\n",
        "        frames = []\n",
        "        for i in range(self.target_frames):\n",
        "            frame_pos = start_frame + int(i * (fps * self.clip_length / self.target_frames))\n",
        "            cap.set(cv2.CAP_PROP_POS_FRAMES, frame_pos)\n",
        "            ret, frame = cap.read()\n",
        "            if ret:\n",
        "                frame = cv2.cvtColor(frame, cv2.COLOR_BGR2RGB)\n",
        "                frame = cv2.resize(frame, (224, 224))\n",
        "                frame = torch.from_numpy(frame).float() / 255.0\n",
        "                frame = frame.permute(2, 0, 1)\n",
        "                frame = self.normalize(frame)\n",
        "                frames.append(frame)\n",
        "            else:\n",
        "                frames.append(torch.zeros((224, 224, 3), dtype=torch.float32))\n",
        "        return torch.stack(frames, dim = 1)  # (T, C, H, W)\n",
        "\n",
        "    def _extract_audio(self, audio_seg, start_sec):\n",
        "        \"\"\"Оптимизированное извлечение аудио\"\"\"\n",
        "        start_ms = start_sec * 1000\n",
        "        end_ms = start_ms + self.clip_length * 1000\n",
        "        segment = audio_seg[start_ms:end_ms]\n",
        "\n",
        "        # Быстрое преобразование в numpy array\n",
        "        samples = np.array(segment.get_array_of_samples())\n",
        "        samples = samples.astype(np.float32) / (2**15)  # Нормализация для int16\n",
        "\n",
        "        # Обрезка/дополнение до нужной длины\n",
        "        target_len = int(self.clip_length * self.audio_rate)\n",
        "        if len(samples) < target_len:\n",
        "            samples = np.pad(samples, (0, target_len - len(samples)))\n",
        "        else:\n",
        "            samples = samples[:target_len]\n",
        "\n",
        "        return torch.from_numpy(samples).unsqueeze(0)  # (1, L)\n",
        "\n",
        "    def __getitem__(self, idx):\n",
        "        video_path = self.df.iloc[idx]['trailer_path']\n",
        "\n",
        "        # 1. Загружаем аудио один раз для всего видео\n",
        "        audio_seg = self._load_audio_segment(video_path)\n",
        "\n",
        "        # 2. Открываем видео\n",
        "        cap = cv2.VideoCapture(video_path)\n",
        "        fps = cap.get(cv2.CAP_PROP_FPS)\n",
        "        total_frames = int(cap.get(cv2.CAP_PROP_FRAME_COUNT))\n",
        "\n",
        "        # 3. Выбираем случайный старт\n",
        "        max_start_frame = max(0, total_frames - int(fps * self.clip_length))\n",
        "        start_frame = random.randint(0, max_start_frame) if max_start_frame > 0 else 0\n",
        "        start_sec = start_frame / fps\n",
        "\n",
        "        # 4. Параллельно извлекаем кадры и аудио\n",
        "        frames = self._extract_frames(cap, start_frame, fps)\n",
        "        audio = self._extract_audio(audio_seg, start_sec)\n",
        "        audio = audio.squeeze(0)\n",
        "        cap.release()\n",
        "\n",
        "        # 5. Применяем трансформации (если есть)\n",
        "        if self.transform:\n",
        "            frames = torch.stack([self.transform(f) for f in frames])\n",
        "        return {\n",
        "            'rgb': torch.FloatTensor(frames),\n",
        "            'audio': audio,\n",
        "            'views': torch.FloatTensor([self.df.iloc[idx]['youtube_views']]),\n",
        "            'path': video_path\n",
        "        }\n",
        "\n",
        "\n",
        "    def __len__(self):\n",
        "        return len(self.df)"
      ]
    },
    {
      "cell_type": "markdown",
      "source": [
        "Пропишем collate fn для даталоадера"
      ],
      "metadata": {
        "id": "2N3CUlT3Ocpu"
      }
    },
    {
      "cell_type": "code",
      "execution_count": null,
      "metadata": {
        "id": "6Ci2IJlhqUd6"
      },
      "outputs": [],
      "source": [
        "def custom_collate_fn(batch):\n",
        "    # Отфильтровываем None (битые примеры)\n",
        "    batch = [item for item in batch if item is not None]\n",
        "\n",
        "    # Если весь батч состоит из None\n",
        "    if len(batch) == 0:\n",
        "        return None\n",
        "\n",
        "    # Собираем батч для каждой модальности\n",
        "    collated_batch = {\n",
        "        'rgb': torch.stack([item['rgb'] for item in batch], dim = 0),\n",
        "\n",
        "        'audio': torch.stack([item['audio'] for item in batch]),\n",
        "        'views': torch.stack([item['views'] for item in batch]),\n",
        "        'paths': [item['path'] for item in batch]  # Список путей (не тензор)\n",
        "    }\n",
        "\n",
        "    return collated_batch"
      ]
    },
    {
      "cell_type": "code",
      "execution_count": null,
      "metadata": {
        "id": "InelPZxyk3Mf"
      },
      "outputs": [],
      "source": [
        "dataset = FastTrailerDataset(\n",
        "    dfik,\n",
        "    clip_length=5.0 # взяли 5 секунд видеоряда, чтобы охватить как можно больше фреймов\n",
        ")"
      ]
    },
    {
      "cell_type": "code",
      "execution_count": null,
      "metadata": {
        "id": "UdbChvW5pNwu"
      },
      "outputs": [],
      "source": [
        "train_dataset, val_dataset = torch.utils.data.random_split(dataset, [0.8,0.2])"
      ]
    },
    {
      "cell_type": "code",
      "execution_count": null,
      "metadata": {
        "id": "DLk5TASXpoBp"
      },
      "outputs": [],
      "source": [
        "train_loader = DataLoader(train_dataset, batch_size=4,\n",
        "    shuffle=True,\n",
        "    num_workers=0,  # Можно увеличить для ускорения загрузки\n",
        "    collate_fn=custom_collate_fn,\n",
        "    pin_memory = True,\n",
        "    drop_last=True )\n",
        "val_loader = DataLoader(val_dataset, batch_size=4,\n",
        "\n",
        "    shuffle=False,\n",
        "    num_workers=0,\n",
        "    pin_memory = True,# Можно увеличить для ускорения загрузки\n",
        "    collate_fn=custom_collate_fn,\n",
        "    drop_last=True )"
      ]
    },
    {
      "cell_type": "markdown",
      "metadata": {
        "id": "SDQY5SChKW2V"
      },
      "source": [
        "Посмотрим на кадр с аватара"
      ]
    },
    {
      "cell_type": "code",
      "execution_count": null,
      "metadata": {
        "colab": {
          "base_uri": "https://localhost:8080/",
          "height": 489
        },
        "id": "pT6P-TKDESnf",
        "outputId": "9663e7a0-aa38-4b86-d4ac-d4d76a3d440c"
      },
      "outputs": [
        {
          "name": "stderr",
          "output_type": "stream",
          "text": [
            "Clipping input data to the valid range for imshow with RGB data ([0..1] for floats or [0..255] for integers). Got range [-2.117904..2.64].\n"
          ]
        },
        {
          "data": {
            "text/plain": [
              "<matplotlib.image.AxesImage at 0x242b44eca40>"
            ]
          },
          "execution_count": 90,
          "metadata": {},
          "output_type": "execute_result"
        },
        {
          "data": {
            "image/png": "[encoded data removed]",
            "text/plain": [
              "<Figure size 640x480 with 1 Axes>"
            ]
          },
          "metadata": {},
          "output_type": "display_data"
        }
      ],
      "source": [
        "plt.imshow(dataset[617].get('rgb').permute(1,2,3,0)[58])"
      ]
    },
    {
      "cell_type": "markdown",
      "source": [
        "# Модель\n"
      ],
      "metadata": {
        "id": "TSRiJNDNSr7n"
      }
    },
    {
      "cell_type": "code",
      "source": [
        "backbone = r3d_18(weights=\"KINETICS400_V1\")"
      ],
      "metadata": {
        "id": "r3U75kprShSF"
      },
      "execution_count": null,
      "outputs": []
    },
    {
      "cell_type": "code",
      "execution_count": null,
      "metadata": {
        "id": "JilK1hN-SUzy",
        "scrolled": true
      },
      "outputs": [],
      "source": [
        "stage = 2\n",
        "\n",
        "class RandomFrameClassifier(nn.Module):\n",
        "    def __init__(self, num_classes=4):\n",
        "        super().__init__()\n",
        "\n",
        "        # 1. Визуальная ветка (теперь сохраняет временную ось)\n",
        "        self.visual_backbone = nn.Sequential(\n",
        "           *list(backbone.children())[:-2],\n",
        "        nn.AdaptiveAvgPool3d((None, 1, 1)),\n",
        "        nn.Flatten(start_dim=2)\n",
        "    )\n",
        "        self.frame_projection = nn.Linear(512, 512)\n",
        "\n",
        "        # Замораживаем все слои, кроме последнего\n",
        "        for param in self.visual_backbone.parameters():\n",
        "            param.requires_grad = False\n",
        "\n",
        "        # 2. MultiheadAttention для 60 кадров\n",
        "        self.frame_attention = nn.MultiheadAttention(\n",
        "            embed_dim=512,\n",
        "            num_heads=8,\n",
        "            dropout=0.1,\n",
        "            batch_first=True  # Используем [B, T, D] формат\n",
        "        )\n",
        "        self.layer_norm = nn.LayerNorm(512)\n",
        "\n",
        "        # 3. Аудио ветка (без изменений)\n",
        "        self.audio_backbone = Wav2Vec2Model.from_pretrained(\"facebook/wav2vec2-base-960h\")\n",
        "        for param in self.audio_backbone.parameters():\n",
        "            param.requires_grad = False\n",
        "\n",
        "        self.audio_projection = nn.Sequential(\n",
        "            nn.Linear(768, 512),\n",
        "            nn.ReLU()\n",
        "        )\n",
        "\n",
        "        # 4. Классификатор\n",
        "        self.classifier = nn.Sequential(\n",
        "            nn.Linear(512 + 512, 512),  # Объединяем видео и аудио\n",
        "            nn.ReLU(),\n",
        "            nn.Dropout(0.3),\n",
        "            nn.Linear(512, num_classes)\n",
        "        )\n",
        "\n",
        "    def forward(self, video_frames, audio):\n",
        "        B, C, T, H, W = video_frames.shape\n",
        "\n",
        "      # 1. Извлекаем фичи для каждого кадра\n",
        "        video_features = self.visual_backbone(video_frames)  # [B, 512, T]\n",
        "        video_features = video_features.permute(0, 2, 1)  # [B, T, 512]\n",
        "        video_features = self.frame_projection(video_features)  # [B, 60, 512]\n",
        "\n",
        "      # 2. Attention между кадрами\n",
        "        attn_output, _ = self.frame_attention(\n",
        "            video_features,  # [B, 60, 512]\n",
        "            video_features,\n",
        "            video_features\n",
        "        )\n",
        "        visual_features = self.layer_norm(attn_output.mean(dim=1))  # [B, 512]\n",
        "\n",
        "        # 3. Аудио фичи\n",
        "        audio_features = self.audio_backbone(audio).last_hidden_state\n",
        "        audio_features = audio_features.mean(dim=1)\n",
        "        audio_features = self.audio_projection(audio_features)  # [B, 512]\n",
        "\n",
        "      # 4. Классификация\n",
        "        combined = torch.cat([visual_features, audio_features], dim=1)\n",
        "        return self.classifier(combined)"
      ]
    },
    {
      "cell_type": "code",
      "execution_count": null,
      "metadata": {
        "colab": {
          "base_uri": "https://localhost:8080/"
        },
        "id": "H4uB5sCVLfdA",
        "outputId": "3f50eb84-0d0a-4ff9-bb7a-85ebcadaf90d"
      },
      "outputs": [
        {
          "name": "stderr",
          "output_type": "stream",
          "text": [
            "Some weights of Wav2Vec2Model were not initialized from the model checkpoint at facebook/wav2vec2-base-960h and are newly initialized: ['masked_spec_embed']\n",
            "You should probably TRAIN this model on a down-stream task to be able to use it for predictions and inference.\n"
          ]
        }
      ],
      "source": [
        "device = torch.device(\"cuda\" if torch.cuda.is_available() else \"cpu\")\n",
        "model = RandomFrameClassifier(num_classes=4).to(device)\n",
        "\n",
        "# 2. Гиперпараметры\n",
        "config = {\n",
        "    'batch_size': 4,\n",
        "    'num_epochs': 15,\n",
        "    'learning_rate': 3e-4,\n",
        "    'warmup_epochs': 2,\n",
        "    'num_workers': 4,\n",
        "    'gradient_clip': 1.0\n",
        "}"
      ]
    },
    {
      "cell_type": "code",
      "execution_count": null,
      "metadata": {
        "id": "7tRg_44cQTf9"
      },
      "outputs": [],
      "source": [
        "# 3. Оптимизатор и планировщик\n",
        "\n",
        "optimizer = AdamW([\n",
        "\n",
        "    {'params': model.visual_backbone[0].parameters(), 'lr': 1e-6},  # Frozen CNN части\n",
        "    {'params': model.visual_backbone[-1].parameters(), 'lr': 1e-5},  # Последний линейный слой\n",
        "\n",
        "\n",
        "    {'params': model.frame_attention.parameters(), 'lr': 3e-5},\n",
        "    {'params': model.frame_projection.parameters(), 'lr': 3e-5},\n",
        "\n",
        "\n",
        "    {'params': model.audio_backbone.parameters(), 'lr': 1e-6},  # Frozen wav2vec\n",
        "    {'params': model.audio_projection.parameters(), 'lr': 1e-5},  # Проекция аудио\n",
        "\n",
        "\n",
        "    {'params': model.classifier.parameters(), 'lr': 5e-4}\n",
        "], weight_decay=0.01)\n",
        "\n",
        "total_steps = len(train_loader) * config['num_epochs']\n",
        "scheduler = get_linear_schedule_with_warmup(\n",
        "    optimizer,\n",
        "    num_warmup_steps=len(train_loader) * config['warmup_epochs'],\n",
        "    num_training_steps=total_steps\n",
        ")\n",
        "criterion = CrossEntropyLoss()"
      ]
    },
    {
      "cell_type": "code",
      "execution_count": null,
      "metadata": {
        "id": "xUw7dcfDLfaf"
      },
      "outputs": [],
      "source": [
        "def plot_metrics(train_losses, val_losses, train_accs, val_accs):\n",
        "    clear_output(wait=True)\n",
        "    fig, (ax1, ax2) = plt.subplots(1, 2, figsize=(15, 5))\n",
        "\n",
        "    # График лосса\n",
        "    ax1.plot(train_losses, label='Train Loss')\n",
        "    ax1.plot(val_losses, label='Validation Loss')\n",
        "    ax1.set_title('Loss over epochs')\n",
        "    ax1.set_xlabel('Epoch')\n",
        "    ax1.set_ylabel('Loss')\n",
        "    ax1.legend()\n",
        "\n",
        "    # График точности\n",
        "    ax2.plot(train_accs, label='Train Accuracy')\n",
        "    ax2.plot(val_accs, label='Validation Accuracy')\n",
        "    ax2.set_title('Accuracy over epochs')\n",
        "    ax2.set_xlabel('Epoch')\n",
        "    ax2.set_ylabel('Accuracy')\n",
        "    ax2.legend()\n",
        "\n",
        "    plt.show()"
      ]
    },
    {
      "cell_type": "code",
      "execution_count": null,
      "metadata": {
        "id": "nzpNdoIFqFH7"
      },
      "outputs": [],
      "source": [
        "def train_epoch(model, dataloader, optimizer, scheduler, device):\n",
        "    model.train()\n",
        "    total_loss = 0\n",
        "    correct = 0\n",
        "    total = 0\n",
        "\n",
        "    progress_bar = tqdm(dataloader, desc=\"Training\")\n",
        "    for batch in progress_bar:\n",
        "        rgb = batch['rgb'].to(device)\n",
        "        audio = batch['audio'].to(device)\n",
        "        labels = batch['views'].squeeze(1).long().to(device)\n",
        "\n",
        "        optimizer.zero_grad()\n",
        "\n",
        "        # Forward pass\n",
        "        outputs = model(rgb, audio)\n",
        "        loss = criterion(outputs, labels)\n",
        "\n",
        "        # Backward pass\n",
        "        loss.backward()\n",
        "        torch.nn.utils.clip_grad_norm_(model.parameters(), config['gradient_clip'])\n",
        "        optimizer.step()\n",
        "\n",
        "        # Metrics\n",
        "        total_loss += loss.item()\n",
        "        _, predicted = torch.max(outputs.data, 1)\n",
        "        total += labels.size(0)\n",
        "        correct += (predicted == labels).sum().item()\n",
        "\n",
        "        progress_bar.set_postfix({\n",
        "            'loss': loss.item(),\n",
        "            'acc': correct / total\n",
        "        })\n",
        "\n",
        "    return total_loss / len(dataloader), correct / total"
      ]
    },
    {
      "cell_type": "code",
      "execution_count": null,
      "metadata": {
        "id": "c_SN1sgoLfXy"
      },
      "outputs": [],
      "source": [
        "def validate(model, dataloader, device):\n",
        "    model.eval()\n",
        "    total_loss = 0\n",
        "    correct = 0\n",
        "    total = 0\n",
        "\n",
        "    with torch.no_grad():\n",
        "        for batch in tqdm(dataloader, desc=\"Validation\"):\n",
        "            rgb = batch['rgb'].to(device)\n",
        "            audio = batch['audio'].to(device)\n",
        "            labels = batch['views'].squeeze(1).long().to(device)\n",
        "\n",
        "            outputs = model(rgb, audio)\n",
        "            loss = criterion(outputs, labels)\n",
        "\n",
        "            total_loss += loss.item()\n",
        "            _, predicted = torch.max(outputs.data, 1)\n",
        "            total += labels.size(0)\n",
        "            correct += (predicted == labels).sum().item()\n",
        "\n",
        "    return total_loss / len(dataloader), correct / total"
      ]
    },
    {
      "cell_type": "markdown",
      "metadata": {
        "id": "6b9a066a"
      },
      "source": [
        "## Сохранение чекпойнтов"
      ]
    },
    {
      "cell_type": "code",
      "execution_count": null,
      "metadata": {
        "id": "FUL2IgiEQTf-"
      },
      "outputs": [],
      "source": [
        "# Сохраняем модель после каждой эпохи и оцениваем метрики\n",
        "def save_checkpoint_and_evaluate(model, val_loader, device, class_names, epoch):\n",
        "    # Сохранение состояния модели\n",
        "    checkpoint_path = f'checkpoint_epoch_{epoch}.pth'\n",
        "    torch.save({\n",
        "        'epoch': epoch,\n",
        "        'model_state_dict': model.state_dict(),\n",
        "        'optimizer_state_dict': optimizer.state_dict(),\n",
        "        'scheduler_state_dict': scheduler.state_dict() if scheduler else None,\n",
        "        'class_names': class_names\n",
        "    }, checkpoint_path)\n",
        "    print(f\"✅ Модель сохранена в {checkpoint_path}\")\n",
        "\n",
        "    # Оценка качества классификации\n",
        "    evaluate_classification(model, val_loader, device, class_names)\n"
      ]
    },
    {
      "cell_type": "code",
      "execution_count": null,
      "metadata": {
        "id": "Euv3DbB9QTf-"
      },
      "outputs": [],
      "source": [
        "def load_checkpoint(model, optimizer, scheduler, checkpoint_path, device='cuda'):\n",
        "    checkpoint = torch.load(checkpoint_path, map_location=device)\n",
        "    model.load_state_dict(checkpoint['model_state_dict'])\n",
        "    optimizer.load_state_dict(checkpoint['optimizer_state_dict'])\n",
        "    if 'scheduler_state_dict' in checkpoint and scheduler:\n",
        "        scheduler.load_state_dict(checkpoint['scheduler_state_dict'])\n",
        "    start_epoch = checkpoint.get('epoch', 0) + 1\n",
        "    class_names = checkpoint.get('class_names', {})\n",
        "    print(f\"✅ Чекпоинт загружен: {checkpoint_path} (начать с эпохи {start_epoch})\")\n",
        "    return model, optimizer, scheduler, start_epoch, class_names"
      ]
    },
    {
      "cell_type": "code",
      "execution_count": null,
      "metadata": {
        "id": "Z0gX988bQTgB",
        "outputId": "deb78f04-d480-423c-8441-3c1f0aa8c2ad"
      },
      "outputs": [
        {
          "name": "stderr",
          "output_type": "stream",
          "text": [
            "C:\\Users\\litvi\\AppData\\Local\\Temp\\ipykernel_21284\\3127757134.py:2: FutureWarning: You are using `torch.load` with `weights_only=False` (the current default value), which uses the default pickle module implicitly. It is possible to construct malicious pickle data which will execute arbitrary code during unpickling (See https://github.com/pytorch/pytorch/blob/main/SECURITY.md#untrusted-models for more details). In a future release, the default value for `weights_only` will be flipped to `True`. This limits the functions that could be executed during unpickling. Arbitrary objects will no longer be allowed to be loaded via this mode unless they are explicitly allowlisted by the user via `torch.serialization.add_safe_globals`. We recommend you start setting `weights_only=True` for any use case where you don't have full control of the loaded file. Please open an issue on GitHub for any issues related to this experimental feature.\n",
            "  checkpoint = torch.load(\"checkpoint_epoch_6.pth\", map_location=device)\n",
            "Some weights of Wav2Vec2Model were not initialized from the model checkpoint at facebook/wav2vec2-base-960h and are newly initialized: ['masked_spec_embed']\n",
            "You should probably TRAIN this model on a down-stream task to be able to use it for predictions and inference.\n"
          ]
        },
        {
          "name": "stdout",
          "output_type": "stream",
          "text": [
            "Checkpoint loaded (weights only). Resuming training from epoch 7\n"
          ]
        }
      ],
      "source": [
        "# === Загрузка модели и весов с чекпойнта 6-й эпохи (без оптимизатора) ===\n",
        "checkpoint = torch.load(\"checkpoint_epoch_6.pth\", map_location=device)\n",
        "\n",
        "# Создание модели с той же архитектурой\n",
        "model = RandomFrameClassifier(num_classes=4).to(device)\n",
        "model.load_state_dict(checkpoint['model_state_dict'])\n",
        "\n",
        "# Инициализация нового оптимизатора и lr scheduler\n",
        "lr_map = {1: 1e-4, 2: 1e-5, 3: 5e-6}\n",
        "optimizer = torch.optim.Adam(model.parameters(), lr=lr_map[stage], weight_decay=1e-5)\n",
        "scheduler = torch.optim.lr_scheduler.ReduceLROnPlateau(optimizer, mode='min', factor=0.5, patience=2)\n",
        "\n",
        "# Продолжение обучения с 7-й эпохи\n",
        "start_epoch = checkpoint['epoch'] + 1\n",
        "print(f\"Checkpoint loaded (weights only). Resuming training from epoch {start_epoch}\")"
      ]
    },
    {
      "cell_type": "markdown",
      "metadata": {
        "id": "3d9b1388"
      },
      "source": [
        "## Цикл обучения"
      ]
    },
    {
      "cell_type": "code",
      "execution_count": null,
      "metadata": {
        "colab": {
          "base_uri": "https://localhost:8080/",
          "height": 469
        },
        "id": "rrCx4TrLqbaO",
        "outputId": "89df0636-b47c-49eb-92f2-f84586aab9ea",
        "scrolled": true
      },
      "outputs": [
        {
          "data": {
            "image/png": "[encoded data removed]",
            "text/plain": [
              "<Figure size 1500x500 with 2 Axes>"
            ]
          },
          "metadata": {},
          "output_type": "display_data"
        },
        {
          "name": "stdout",
          "output_type": "stream",
          "text": [
            "\n",
            "Сохранение финального состояния...\n",
            "Финальная модель сохранена в 'final_model.pth'\n"
          ]
        }
      ],
      "source": [
        "train_loss_history = []\n",
        "val_loss_history = []\n",
        "train_acc_history = []\n",
        "val_acc_history = []\n",
        "\n",
        "best_val_acc = 0\n",
        "\n",
        "class_names = {\n",
        "    0: \"меньше 100 тысяч\",\n",
        "    1: \"от 100 до 500 тысяч\",\n",
        "    2: \"от 500 до 1М\",\n",
        "    3: \">1М\"\n",
        "}\n",
        "\n",
        "# Путь для сохранения чекпоинтов\n",
        "\n",
        "try:\n",
        "    for epoch in range(start_epoch, config['num_epochs']):\n",
        "        print(f\"\\nEpoch {epoch + 1}/{config['num_epochs']}\")\n",
        "\n",
        "        # Обучение\n",
        "        train_loss, train_acc = train_epoch(model, train_loader, optimizer, scheduler, device)\n",
        "        train_loss_history.append(train_loss)\n",
        "        train_acc_history.append(train_acc)\n",
        "\n",
        "        # Валидация\n",
        "        val_loss, val_acc = validate(model, val_loader, device)\n",
        "        scheduler.step(val_loss)\n",
        "        val_loss_history.append(val_loss)\n",
        "        val_acc_history.append(val_acc)\n",
        "\n",
        "        # Сохранение лучшей модели\n",
        "        if val_acc > best_val_acc:\n",
        "            best_val_acc = val_acc\n",
        "            torch.save({\n",
        "                'epoch': epoch,\n",
        "                'model_state_dict': model.state_dict(),\n",
        "                'optimizer_state_dict': optimizer.state_dict(),\n",
        "                'scheduler_state_dict': scheduler.state_dict() if scheduler else None,\n",
        "                'train_loss_history': train_loss_history,\n",
        "                'val_loss_history': val_loss_history,\n",
        "                'train_acc_history': train_acc_history,\n",
        "                'val_acc_history': val_acc_history,\n",
        "                'best_val_acc': best_val_acc,\n",
        "                'class_names': class_names,\n",
        "                'training_date': datetime.now().strftime(\"%Y-%m-%d\")\n",
        "            }, 'best_model.pth')\n",
        "            print(f\"Новая лучшая модель сохранена (Val Acc: {best_val_acc:.4f})\")\n",
        "\n",
        "        # Вывод метрик\n",
        "        print(f\"Train Loss: {train_loss:.4f} | Acc: {train_acc:.4f}\")\n",
        "        print(f\"Val Loss: {val_loss:.4f} | Acc: {val_acc:.4f}\")\n",
        "\n",
        "        # Отрисовка графиков\n",
        "        save_checkpoint_and_evaluate(model, val_loader, device, class_names, epoch)\n",
        "        plot_metrics(train_loss_history, val_loss_history, train_acc_history, val_acc_history)\n",
        "\n",
        "except (KeyboardInterrupt, Exception) as e:\n",
        "    print(f\"\\nПрерывание! Экстренное завершение... Ошибка: {e}\")\n",
        "    torch.save({\n",
        "        'epoch': epoch,\n",
        "        'model_state_dict': model.state_dict(),\n",
        "        'optimizer_state_dict': optimizer.state_dict(),\n",
        "        'scheduler_state_dict': scheduler.state_dict() if scheduler else None,\n",
        "        'train_loss_history': train_loss_history,\n",
        "        'val_loss_history': val_loss_history,\n",
        "        'train_acc_history': train_acc_history,\n",
        "        'val_acc_history': val_acc_history,\n",
        "        'best_val_acc': best_val_acc,\n",
        "        'class_names': class_names,\n",
        "        'training_date': datetime.now().strftime(\"%Y-%m-%d\")\n",
        "    }, 'emergency_model.pth')\n",
        "    raise\n",
        "\n",
        "finally:\n",
        "    print(\"\\nСохранение финального состояния...\")\n",
        "    torch.save({\n",
        "        'epoch': epoch,\n",
        "        'model_state_dict': model.state_dict(),\n",
        "        'optimizer_state_dict': optimizer.state_dict(),\n",
        "        'scheduler_state_dict': scheduler.state_dict() if scheduler else None,\n",
        "        'train_loss_history': train_loss_history,\n",
        "        'val_loss_history': val_loss_history,\n",
        "        'train_acc_history': train_acc_history,\n",
        "        'val_acc_history': val_acc_history,\n",
        "        'best_val_acc': best_val_acc,\n",
        "        'class_names': class_names,\n",
        "        'training_date': datetime.now().strftime(\"%Y-%m-%d\")\n",
        "    }, 'final_model.pth')\n",
        "    print(\"Финальная модель сохранена в 'final_model.pth'\")"
      ]
    },
    {
      "cell_type": "code",
      "execution_count": null,
      "metadata": {
        "id": "M8Tb8ZuCQTgB",
        "outputId": "8d40c688-120e-403b-92d1-05bcbbccab54"
      },
      "outputs": [
        {
          "name": "stdout",
          "output_type": "stream",
          "text": [
            "Эпоха 1: val_acc = 0.4423\n",
            "Эпоха 2: val_acc = 0.4478\n",
            "Эпоха 3: val_acc = 0.4396\n",
            "Эпоха 4: val_acc = 0.4588\n",
            "Эпоха 5: val_acc = 0.4698\n"
          ]
        },
        {
          "name": "stderr",
          "output_type": "stream",
          "text": [
            "C:\\Users\\litvi\\AppData\\Local\\Temp\\ipykernel_21284\\3824524208.py:1: FutureWarning: You are using `torch.load` with `weights_only=False` (the current default value), which uses the default pickle module implicitly. It is possible to construct malicious pickle data which will execute arbitrary code during unpickling (See https://github.com/pytorch/pytorch/blob/main/SECURITY.md#untrusted-models for more details). In a future release, the default value for `weights_only` will be flipped to `True`. This limits the functions that could be executed during unpickling. Arbitrary objects will no longer be allowed to be loaded via this mode unless they are explicitly allowlisted by the user via `torch.serialization.add_safe_globals`. We recommend you start setting `weights_only=True` for any use case where you don't have full control of the loaded file. Please open an issue on GitHub for any issues related to this experimental feature.\n",
            "  checkpoint = torch.load(\"best_model.pth\", map_location=\"cpu\")\n"
          ]
        }
      ],
      "source": [
        "checkpoint = torch.load(\"best_model.pth\", map_location=\"cpu\")\n",
        "val_acc_history = checkpoint.get(\"val_acc_history\", [])\n",
        "\n",
        "for i, acc in enumerate(val_acc_history):\n",
        "    print(f\"Эпоха {i+1}: val_acc = {acc:.4f}\")"
      ]
    },
    {
      "cell_type": "code",
      "execution_count": null,
      "metadata": {
        "id": "gBBDUBKdQTgB",
        "outputId": "78aea8c7-523f-4362-a908-2765adb226fc"
      },
      "outputs": [
        {
          "name": "stderr",
          "output_type": "stream",
          "text": [
            "C:\\Users\\litvi\\AppData\\Local\\Temp\\ipykernel_21284\\3166534233.py:1: FutureWarning: You are using `torch.load` with `weights_only=False` (the current default value), which uses the default pickle module implicitly. It is possible to construct malicious pickle data which will execute arbitrary code during unpickling (See https://github.com/pytorch/pytorch/blob/main/SECURITY.md#untrusted-models for more details). In a future release, the default value for `weights_only` will be flipped to `True`. This limits the functions that could be executed during unpickling. Arbitrary objects will no longer be allowed to be loaded via this mode unless they are explicitly allowlisted by the user via `torch.serialization.add_safe_globals`. We recommend you start setting `weights_only=True` for any use case where you don't have full control of the loaded file. Please open an issue on GitHub for any issues related to this experimental feature.\n",
            "  checkpoint = torch.load(\"best_model.pth\", map_location=\"cpu\")\n"
          ]
        },
        {
          "name": "stdout",
          "output_type": "stream",
          "text": [
            "✅ Лучшая модель была на эпохе: 12\n",
            "🎯 Validation Accuracy на ней: 0.4698\n"
          ]
        }
      ],
      "source": [
        "best_epoch = checkpoint.get(\"epoch\", None)\n",
        "best_val_acc = checkpoint.get(\"best_val_acc\", None)\n",
        "\n",
        "print(f\"✅ Лучшая модель была на эпохе: {best_epoch + 1}\")\n",
        "print(f\"🎯 Validation Accuracy на ней: {best_val_acc:.4f}\")"
      ]
    }
  ],
  "metadata": {
    "accelerator": "GPU",
    "colab": {
      "gpuType": "T4",
      "provenance": []
    },
    "kernelspec": {
      "display_name": "Python 3 (ipykernel)",
      "language": "python",
      "name": "python3"
    },
    "language_info": {
      "codemirror_mode": {
        "name": "ipython",
        "version": 3
      },
      "file_extension": ".py",
      "mimetype": "text/x-python",
      "name": "python",
      "nbconvert_exporter": "python",
      "pygments_lexer": "ipython3",
      "version": "3.12.7"
    }
  },
  "nbformat": 4,
  "nbformat_minor": 0
}